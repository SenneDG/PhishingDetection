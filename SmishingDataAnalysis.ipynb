{
  "nbformat": 4,
  "nbformat_minor": 0,
  "metadata": {
    "colab": {
      "provenance": [],
      "gpuType": "T4",
      "include_colab_link": true
    },
    "kernelspec": {
      "name": "python3",
      "display_name": "Python 3"
    },
    "language_info": {
      "name": "python"
    },
    "accelerator": "GPU"
  },
  "cells": [
    {
      "cell_type": "markdown",
      "metadata": {
        "id": "view-in-github",
        "colab_type": "text"
      },
      "source": [
        "<a href=\"https://colab.research.google.com/github/SenneDG/PhishingDetection/blob/main/SmishingDataAnalysis.ipynb\" target=\"_parent\"><img src=\"https://colab.research.google.com/assets/colab-badge.svg\" alt=\"Open In Colab\"/></a>"
      ]
    },
    {
      "cell_type": "markdown",
      "source": [
        "# SMS Smishing Detection - Machine Learning Project\n",
        "\n",
        "## Data Analysis"
      ],
      "metadata": {
        "id": "XegDNXVcT-Lp"
      }
    },
    {
      "cell_type": "code",
      "source": [
        "from google.colab import drive\n",
        "drive.mount('/content/drive');"
      ],
      "metadata": {
        "colab": {
          "base_uri": "https://localhost:8080/",
          "height": 304
        },
        "id": "Rhr7ZSTDVYAw",
        "outputId": "a26700fb-6985-4d84-9814-7272f477c4bd"
      },
      "execution_count": 2,
      "outputs": [
        {
          "output_type": "error",
          "ename": "MessageError",
          "evalue": "Error: credential propagation was unsuccessful",
          "traceback": [
            "\u001b[0;31m---------------------------------------------------------------------------\u001b[0m",
            "\u001b[0;31mMessageError\u001b[0m                              Traceback (most recent call last)",
            "\u001b[0;32m<ipython-input-2-a336d33fa982>\u001b[0m in \u001b[0;36m<cell line: 2>\u001b[0;34m()\u001b[0m\n\u001b[1;32m      1\u001b[0m \u001b[0;32mfrom\u001b[0m \u001b[0mgoogle\u001b[0m\u001b[0;34m.\u001b[0m\u001b[0mcolab\u001b[0m \u001b[0;32mimport\u001b[0m \u001b[0mdrive\u001b[0m\u001b[0;34m\u001b[0m\u001b[0;34m\u001b[0m\u001b[0m\n\u001b[0;32m----> 2\u001b[0;31m \u001b[0mdrive\u001b[0m\u001b[0;34m.\u001b[0m\u001b[0mmount\u001b[0m\u001b[0;34m(\u001b[0m\u001b[0;34m'/content/drive'\u001b[0m\u001b[0;34m)\u001b[0m\u001b[0;34m;\u001b[0m\u001b[0;34m\u001b[0m\u001b[0;34m\u001b[0m\u001b[0m\n\u001b[0m",
            "\u001b[0;32m/usr/local/lib/python3.10/dist-packages/google/colab/drive.py\u001b[0m in \u001b[0;36mmount\u001b[0;34m(mountpoint, force_remount, timeout_ms, readonly)\u001b[0m\n\u001b[1;32m     98\u001b[0m \u001b[0;32mdef\u001b[0m \u001b[0mmount\u001b[0m\u001b[0;34m(\u001b[0m\u001b[0mmountpoint\u001b[0m\u001b[0;34m,\u001b[0m \u001b[0mforce_remount\u001b[0m\u001b[0;34m=\u001b[0m\u001b[0;32mFalse\u001b[0m\u001b[0;34m,\u001b[0m \u001b[0mtimeout_ms\u001b[0m\u001b[0;34m=\u001b[0m\u001b[0;36m120000\u001b[0m\u001b[0;34m,\u001b[0m \u001b[0mreadonly\u001b[0m\u001b[0;34m=\u001b[0m\u001b[0;32mFalse\u001b[0m\u001b[0;34m)\u001b[0m\u001b[0;34m:\u001b[0m\u001b[0;34m\u001b[0m\u001b[0;34m\u001b[0m\u001b[0m\n\u001b[1;32m     99\u001b[0m   \u001b[0;34m\"\"\"Mount your Google Drive at the specified mountpoint path.\"\"\"\u001b[0m\u001b[0;34m\u001b[0m\u001b[0;34m\u001b[0m\u001b[0m\n\u001b[0;32m--> 100\u001b[0;31m   return _mount(\n\u001b[0m\u001b[1;32m    101\u001b[0m       \u001b[0mmountpoint\u001b[0m\u001b[0;34m,\u001b[0m\u001b[0;34m\u001b[0m\u001b[0;34m\u001b[0m\u001b[0m\n\u001b[1;32m    102\u001b[0m       \u001b[0mforce_remount\u001b[0m\u001b[0;34m=\u001b[0m\u001b[0mforce_remount\u001b[0m\u001b[0;34m,\u001b[0m\u001b[0;34m\u001b[0m\u001b[0;34m\u001b[0m\u001b[0m\n",
            "\u001b[0;32m/usr/local/lib/python3.10/dist-packages/google/colab/drive.py\u001b[0m in \u001b[0;36m_mount\u001b[0;34m(mountpoint, force_remount, timeout_ms, ephemeral, readonly)\u001b[0m\n\u001b[1;32m    131\u001b[0m   )\n\u001b[1;32m    132\u001b[0m   \u001b[0;32mif\u001b[0m \u001b[0mephemeral\u001b[0m\u001b[0;34m:\u001b[0m\u001b[0;34m\u001b[0m\u001b[0;34m\u001b[0m\u001b[0m\n\u001b[0;32m--> 133\u001b[0;31m     _message.blocking_request(\n\u001b[0m\u001b[1;32m    134\u001b[0m         \u001b[0;34m'request_auth'\u001b[0m\u001b[0;34m,\u001b[0m\u001b[0;34m\u001b[0m\u001b[0;34m\u001b[0m\u001b[0m\n\u001b[1;32m    135\u001b[0m         \u001b[0mrequest\u001b[0m\u001b[0;34m=\u001b[0m\u001b[0;34m{\u001b[0m\u001b[0;34m'authType'\u001b[0m\u001b[0;34m:\u001b[0m \u001b[0;34m'dfs_ephemeral'\u001b[0m\u001b[0;34m}\u001b[0m\u001b[0;34m,\u001b[0m\u001b[0;34m\u001b[0m\u001b[0;34m\u001b[0m\u001b[0m\n",
            "\u001b[0;32m/usr/local/lib/python3.10/dist-packages/google/colab/_message.py\u001b[0m in \u001b[0;36mblocking_request\u001b[0;34m(request_type, request, timeout_sec, parent)\u001b[0m\n\u001b[1;32m    174\u001b[0m       \u001b[0mrequest_type\u001b[0m\u001b[0;34m,\u001b[0m \u001b[0mrequest\u001b[0m\u001b[0;34m,\u001b[0m \u001b[0mparent\u001b[0m\u001b[0;34m=\u001b[0m\u001b[0mparent\u001b[0m\u001b[0;34m,\u001b[0m \u001b[0mexpect_reply\u001b[0m\u001b[0;34m=\u001b[0m\u001b[0;32mTrue\u001b[0m\u001b[0;34m\u001b[0m\u001b[0;34m\u001b[0m\u001b[0m\n\u001b[1;32m    175\u001b[0m   )\n\u001b[0;32m--> 176\u001b[0;31m   \u001b[0;32mreturn\u001b[0m \u001b[0mread_reply_from_input\u001b[0m\u001b[0;34m(\u001b[0m\u001b[0mrequest_id\u001b[0m\u001b[0;34m,\u001b[0m \u001b[0mtimeout_sec\u001b[0m\u001b[0;34m)\u001b[0m\u001b[0;34m\u001b[0m\u001b[0;34m\u001b[0m\u001b[0m\n\u001b[0m",
            "\u001b[0;32m/usr/local/lib/python3.10/dist-packages/google/colab/_message.py\u001b[0m in \u001b[0;36mread_reply_from_input\u001b[0;34m(message_id, timeout_sec)\u001b[0m\n\u001b[1;32m    101\u001b[0m     ):\n\u001b[1;32m    102\u001b[0m       \u001b[0;32mif\u001b[0m \u001b[0;34m'error'\u001b[0m \u001b[0;32min\u001b[0m \u001b[0mreply\u001b[0m\u001b[0;34m:\u001b[0m\u001b[0;34m\u001b[0m\u001b[0;34m\u001b[0m\u001b[0m\n\u001b[0;32m--> 103\u001b[0;31m         \u001b[0;32mraise\u001b[0m \u001b[0mMessageError\u001b[0m\u001b[0;34m(\u001b[0m\u001b[0mreply\u001b[0m\u001b[0;34m[\u001b[0m\u001b[0;34m'error'\u001b[0m\u001b[0;34m]\u001b[0m\u001b[0;34m)\u001b[0m\u001b[0;34m\u001b[0m\u001b[0;34m\u001b[0m\u001b[0m\n\u001b[0m\u001b[1;32m    104\u001b[0m       \u001b[0;32mreturn\u001b[0m \u001b[0mreply\u001b[0m\u001b[0;34m.\u001b[0m\u001b[0mget\u001b[0m\u001b[0;34m(\u001b[0m\u001b[0;34m'data'\u001b[0m\u001b[0;34m,\u001b[0m \u001b[0;32mNone\u001b[0m\u001b[0;34m)\u001b[0m\u001b[0;34m\u001b[0m\u001b[0;34m\u001b[0m\u001b[0m\n\u001b[1;32m    105\u001b[0m \u001b[0;34m\u001b[0m\u001b[0m\n",
            "\u001b[0;31mMessageError\u001b[0m: Error: credential propagation was unsuccessful"
          ]
        }
      ]
    },
    {
      "cell_type": "code",
      "execution_count": null,
      "metadata": {
        "colab": {
          "base_uri": "https://localhost:8080/",
          "height": 393
        },
        "id": "vMzQ83LsT8bq",
        "outputId": "aab1b888-f579-40b7-9ba8-e44fe6f7c3ba"
      },
      "outputs": [
        {
          "output_type": "error",
          "ename": "FileNotFoundError",
          "evalue": "ignored",
          "traceback": [
            "\u001b[0;31m---------------------------------------------------------------------------\u001b[0m",
            "\u001b[0;31mFileNotFoundError\u001b[0m                         Traceback (most recent call last)",
            "\u001b[0;32m<ipython-input-1-a7776600ee6c>\u001b[0m in \u001b[0;36m<cell line: 13>\u001b[0;34m()\u001b[0m\n\u001b[1;32m     11\u001b[0m \u001b[0;34m\u001b[0m\u001b[0m\n\u001b[1;32m     12\u001b[0m \u001b[0;31m# Read the dataset from csv file\u001b[0m\u001b[0;34m\u001b[0m\u001b[0;34m\u001b[0m\u001b[0m\n\u001b[0;32m---> 13\u001b[0;31m \u001b[0mdataset\u001b[0m \u001b[0;34m=\u001b[0m \u001b[0mpd\u001b[0m\u001b[0;34m.\u001b[0m\u001b[0mread_csv\u001b[0m\u001b[0;34m(\u001b[0m\u001b[0mDATA_PATH\u001b[0m\u001b[0;34m/\u001b[0m\u001b[0;34m\"Dataset_5971.csv\"\u001b[0m\u001b[0;34m)\u001b[0m\u001b[0;34m\u001b[0m\u001b[0;34m\u001b[0m\u001b[0m\n\u001b[0m\u001b[1;32m     14\u001b[0m \u001b[0;34m\u001b[0m\u001b[0m\n\u001b[1;32m     15\u001b[0m \u001b[0;31m# Seperate the dataset into labels and features\u001b[0m\u001b[0;34m\u001b[0m\u001b[0;34m\u001b[0m\u001b[0m\n",
            "\u001b[0;32m/usr/local/lib/python3.10/dist-packages/pandas/util/_decorators.py\u001b[0m in \u001b[0;36mwrapper\u001b[0;34m(*args, **kwargs)\u001b[0m\n\u001b[1;32m    209\u001b[0m                 \u001b[0;32melse\u001b[0m\u001b[0;34m:\u001b[0m\u001b[0;34m\u001b[0m\u001b[0;34m\u001b[0m\u001b[0m\n\u001b[1;32m    210\u001b[0m                     \u001b[0mkwargs\u001b[0m\u001b[0;34m[\u001b[0m\u001b[0mnew_arg_name\u001b[0m\u001b[0;34m]\u001b[0m \u001b[0;34m=\u001b[0m \u001b[0mnew_arg_value\u001b[0m\u001b[0;34m\u001b[0m\u001b[0;34m\u001b[0m\u001b[0m\n\u001b[0;32m--> 211\u001b[0;31m             \u001b[0;32mreturn\u001b[0m \u001b[0mfunc\u001b[0m\u001b[0;34m(\u001b[0m\u001b[0;34m*\u001b[0m\u001b[0margs\u001b[0m\u001b[0;34m,\u001b[0m \u001b[0;34m**\u001b[0m\u001b[0mkwargs\u001b[0m\u001b[0;34m)\u001b[0m\u001b[0;34m\u001b[0m\u001b[0;34m\u001b[0m\u001b[0m\n\u001b[0m\u001b[1;32m    212\u001b[0m \u001b[0;34m\u001b[0m\u001b[0m\n\u001b[1;32m    213\u001b[0m         \u001b[0;32mreturn\u001b[0m \u001b[0mcast\u001b[0m\u001b[0;34m(\u001b[0m\u001b[0mF\u001b[0m\u001b[0;34m,\u001b[0m \u001b[0mwrapper\u001b[0m\u001b[0;34m)\u001b[0m\u001b[0;34m\u001b[0m\u001b[0;34m\u001b[0m\u001b[0m\n",
            "\u001b[0;32m/usr/local/lib/python3.10/dist-packages/pandas/util/_decorators.py\u001b[0m in \u001b[0;36mwrapper\u001b[0;34m(*args, **kwargs)\u001b[0m\n\u001b[1;32m    329\u001b[0m                     \u001b[0mstacklevel\u001b[0m\u001b[0;34m=\u001b[0m\u001b[0mfind_stack_level\u001b[0m\u001b[0;34m(\u001b[0m\u001b[0;34m)\u001b[0m\u001b[0;34m,\u001b[0m\u001b[0;34m\u001b[0m\u001b[0;34m\u001b[0m\u001b[0m\n\u001b[1;32m    330\u001b[0m                 )\n\u001b[0;32m--> 331\u001b[0;31m             \u001b[0;32mreturn\u001b[0m \u001b[0mfunc\u001b[0m\u001b[0;34m(\u001b[0m\u001b[0;34m*\u001b[0m\u001b[0margs\u001b[0m\u001b[0;34m,\u001b[0m \u001b[0;34m**\u001b[0m\u001b[0mkwargs\u001b[0m\u001b[0;34m)\u001b[0m\u001b[0;34m\u001b[0m\u001b[0;34m\u001b[0m\u001b[0m\n\u001b[0m\u001b[1;32m    332\u001b[0m \u001b[0;34m\u001b[0m\u001b[0m\n\u001b[1;32m    333\u001b[0m         \u001b[0;31m# error: \"Callable[[VarArg(Any), KwArg(Any)], Any]\" has no\u001b[0m\u001b[0;34m\u001b[0m\u001b[0;34m\u001b[0m\u001b[0m\n",
            "\u001b[0;32m/usr/local/lib/python3.10/dist-packages/pandas/io/parsers/readers.py\u001b[0m in \u001b[0;36mread_csv\u001b[0;34m(filepath_or_buffer, sep, delimiter, header, names, index_col, usecols, squeeze, prefix, mangle_dupe_cols, dtype, engine, converters, true_values, false_values, skipinitialspace, skiprows, skipfooter, nrows, na_values, keep_default_na, na_filter, verbose, skip_blank_lines, parse_dates, infer_datetime_format, keep_date_col, date_parser, dayfirst, cache_dates, iterator, chunksize, compression, thousands, decimal, lineterminator, quotechar, quoting, doublequote, escapechar, comment, encoding, encoding_errors, dialect, error_bad_lines, warn_bad_lines, on_bad_lines, delim_whitespace, low_memory, memory_map, float_precision, storage_options)\u001b[0m\n\u001b[1;32m    948\u001b[0m     \u001b[0mkwds\u001b[0m\u001b[0;34m.\u001b[0m\u001b[0mupdate\u001b[0m\u001b[0;34m(\u001b[0m\u001b[0mkwds_defaults\u001b[0m\u001b[0;34m)\u001b[0m\u001b[0;34m\u001b[0m\u001b[0;34m\u001b[0m\u001b[0m\n\u001b[1;32m    949\u001b[0m \u001b[0;34m\u001b[0m\u001b[0m\n\u001b[0;32m--> 950\u001b[0;31m     \u001b[0;32mreturn\u001b[0m \u001b[0m_read\u001b[0m\u001b[0;34m(\u001b[0m\u001b[0mfilepath_or_buffer\u001b[0m\u001b[0;34m,\u001b[0m \u001b[0mkwds\u001b[0m\u001b[0;34m)\u001b[0m\u001b[0;34m\u001b[0m\u001b[0;34m\u001b[0m\u001b[0m\n\u001b[0m\u001b[1;32m    951\u001b[0m \u001b[0;34m\u001b[0m\u001b[0m\n\u001b[1;32m    952\u001b[0m \u001b[0;34m\u001b[0m\u001b[0m\n",
            "\u001b[0;32m/usr/local/lib/python3.10/dist-packages/pandas/io/parsers/readers.py\u001b[0m in \u001b[0;36m_read\u001b[0;34m(filepath_or_buffer, kwds)\u001b[0m\n\u001b[1;32m    603\u001b[0m \u001b[0;34m\u001b[0m\u001b[0m\n\u001b[1;32m    604\u001b[0m     \u001b[0;31m# Create the parser.\u001b[0m\u001b[0;34m\u001b[0m\u001b[0;34m\u001b[0m\u001b[0m\n\u001b[0;32m--> 605\u001b[0;31m     \u001b[0mparser\u001b[0m \u001b[0;34m=\u001b[0m \u001b[0mTextFileReader\u001b[0m\u001b[0;34m(\u001b[0m\u001b[0mfilepath_or_buffer\u001b[0m\u001b[0;34m,\u001b[0m \u001b[0;34m**\u001b[0m\u001b[0mkwds\u001b[0m\u001b[0;34m)\u001b[0m\u001b[0;34m\u001b[0m\u001b[0;34m\u001b[0m\u001b[0m\n\u001b[0m\u001b[1;32m    606\u001b[0m \u001b[0;34m\u001b[0m\u001b[0m\n\u001b[1;32m    607\u001b[0m     \u001b[0;32mif\u001b[0m \u001b[0mchunksize\u001b[0m \u001b[0;32mor\u001b[0m \u001b[0miterator\u001b[0m\u001b[0;34m:\u001b[0m\u001b[0;34m\u001b[0m\u001b[0;34m\u001b[0m\u001b[0m\n",
            "\u001b[0;32m/usr/local/lib/python3.10/dist-packages/pandas/io/parsers/readers.py\u001b[0m in \u001b[0;36m__init__\u001b[0;34m(self, f, engine, **kwds)\u001b[0m\n\u001b[1;32m   1440\u001b[0m \u001b[0;34m\u001b[0m\u001b[0m\n\u001b[1;32m   1441\u001b[0m         \u001b[0mself\u001b[0m\u001b[0;34m.\u001b[0m\u001b[0mhandles\u001b[0m\u001b[0;34m:\u001b[0m \u001b[0mIOHandles\u001b[0m \u001b[0;34m|\u001b[0m \u001b[0;32mNone\u001b[0m \u001b[0;34m=\u001b[0m \u001b[0;32mNone\u001b[0m\u001b[0;34m\u001b[0m\u001b[0;34m\u001b[0m\u001b[0m\n\u001b[0;32m-> 1442\u001b[0;31m         \u001b[0mself\u001b[0m\u001b[0;34m.\u001b[0m\u001b[0m_engine\u001b[0m \u001b[0;34m=\u001b[0m \u001b[0mself\u001b[0m\u001b[0;34m.\u001b[0m\u001b[0m_make_engine\u001b[0m\u001b[0;34m(\u001b[0m\u001b[0mf\u001b[0m\u001b[0;34m,\u001b[0m \u001b[0mself\u001b[0m\u001b[0;34m.\u001b[0m\u001b[0mengine\u001b[0m\u001b[0;34m)\u001b[0m\u001b[0;34m\u001b[0m\u001b[0;34m\u001b[0m\u001b[0m\n\u001b[0m\u001b[1;32m   1443\u001b[0m \u001b[0;34m\u001b[0m\u001b[0m\n\u001b[1;32m   1444\u001b[0m     \u001b[0;32mdef\u001b[0m \u001b[0mclose\u001b[0m\u001b[0;34m(\u001b[0m\u001b[0mself\u001b[0m\u001b[0;34m)\u001b[0m \u001b[0;34m->\u001b[0m \u001b[0;32mNone\u001b[0m\u001b[0;34m:\u001b[0m\u001b[0;34m\u001b[0m\u001b[0;34m\u001b[0m\u001b[0m\n",
            "\u001b[0;32m/usr/local/lib/python3.10/dist-packages/pandas/io/parsers/readers.py\u001b[0m in \u001b[0;36m_make_engine\u001b[0;34m(self, f, engine)\u001b[0m\n\u001b[1;32m   1733\u001b[0m                 \u001b[0;32mif\u001b[0m \u001b[0;34m\"b\"\u001b[0m \u001b[0;32mnot\u001b[0m \u001b[0;32min\u001b[0m \u001b[0mmode\u001b[0m\u001b[0;34m:\u001b[0m\u001b[0;34m\u001b[0m\u001b[0;34m\u001b[0m\u001b[0m\n\u001b[1;32m   1734\u001b[0m                     \u001b[0mmode\u001b[0m \u001b[0;34m+=\u001b[0m \u001b[0;34m\"b\"\u001b[0m\u001b[0;34m\u001b[0m\u001b[0;34m\u001b[0m\u001b[0m\n\u001b[0;32m-> 1735\u001b[0;31m             self.handles = get_handle(\n\u001b[0m\u001b[1;32m   1736\u001b[0m                 \u001b[0mf\u001b[0m\u001b[0;34m,\u001b[0m\u001b[0;34m\u001b[0m\u001b[0;34m\u001b[0m\u001b[0m\n\u001b[1;32m   1737\u001b[0m                 \u001b[0mmode\u001b[0m\u001b[0;34m,\u001b[0m\u001b[0;34m\u001b[0m\u001b[0;34m\u001b[0m\u001b[0m\n",
            "\u001b[0;32m/usr/local/lib/python3.10/dist-packages/pandas/io/common.py\u001b[0m in \u001b[0;36mget_handle\u001b[0;34m(path_or_buf, mode, encoding, compression, memory_map, is_text, errors, storage_options)\u001b[0m\n\u001b[1;32m    854\u001b[0m         \u001b[0;32mif\u001b[0m \u001b[0mioargs\u001b[0m\u001b[0;34m.\u001b[0m\u001b[0mencoding\u001b[0m \u001b[0;32mand\u001b[0m \u001b[0;34m\"b\"\u001b[0m \u001b[0;32mnot\u001b[0m \u001b[0;32min\u001b[0m \u001b[0mioargs\u001b[0m\u001b[0;34m.\u001b[0m\u001b[0mmode\u001b[0m\u001b[0;34m:\u001b[0m\u001b[0;34m\u001b[0m\u001b[0;34m\u001b[0m\u001b[0m\n\u001b[1;32m    855\u001b[0m             \u001b[0;31m# Encoding\u001b[0m\u001b[0;34m\u001b[0m\u001b[0;34m\u001b[0m\u001b[0m\n\u001b[0;32m--> 856\u001b[0;31m             handle = open(\n\u001b[0m\u001b[1;32m    857\u001b[0m                 \u001b[0mhandle\u001b[0m\u001b[0;34m,\u001b[0m\u001b[0;34m\u001b[0m\u001b[0;34m\u001b[0m\u001b[0m\n\u001b[1;32m    858\u001b[0m                 \u001b[0mioargs\u001b[0m\u001b[0;34m.\u001b[0m\u001b[0mmode\u001b[0m\u001b[0;34m,\u001b[0m\u001b[0;34m\u001b[0m\u001b[0;34m\u001b[0m\u001b[0m\n",
            "\u001b[0;31mFileNotFoundError\u001b[0m: [Errno 2] No such file or directory: '/content/drive/MyDrive/ML/dataset/Dataset_5971.csv'"
          ]
        }
      ],
      "source": [
        "from pathlib import Path\n",
        "\n",
        "import pandas as pd\n",
        "import numpy as np\n",
        "%matplotlib inline\n",
        "import matplotlib.pyplot as plt\n",
        "\n",
        "RANDOM_STATE = 1337\n",
        "\n",
        "DATA_PATH = Path.cwd()/\"drive\"/\"MyDrive\"/\"ML\"/\"dataset\";\n",
        "\n",
        "# Read the dataset from csv file\n",
        "dataset = pd.read_csv(DATA_PATH/\"Dataset_5971.csv\")\n",
        "\n",
        "# Seperate the dataset into labels and features\n",
        "\n",
        "# Some of the data is mislabeled (there are examples with both label \"Spam\" and \"spam\" for example)\n",
        "y = dataset[\"LABEL\"].str.lower() # Labels\n",
        "\n",
        "X = dataset.loc[:, dataset.columns != \"LABEL\"].copy() # Features\n",
        "\n",
        "# there is probably a better way to do this\n",
        "for col in X.columns:\n",
        "    if col != 'TEXT':\n",
        "        X[col] = X[col].str.lower()\n",
        "\n",
        "np.testing.assert_array_equal(y.index.values, X.index.values);\n",
        "\n",
        "#dataset.head()\n",
        "dataset.loc[[5830, 5418, 3060, 2415, 3046], :]"
      ]
    },
    {
      "cell_type": "markdown",
      "source": [
        "### Characteristics of the dataset\n",
        "\n",
        "Now we can take a look at the characteristics of our dataset. We will take a look at the amount of entries, if there is any missing data and the amount of unique data in every column. And lastly we will take a look at the proportion of the labels in our dataset.\n",
        "\n",
        "There are 5971 entries within the dataset. Which sufficies the project requirements. Also there is no missing data in the dataset and we have enough unique **TEXT** data\n",
        "\n",
        "It becomes clear that this dataset is quite unbalanced, and as such we should take this into account wihtin our machine learning model."
      ],
      "metadata": {
        "id": "j6LKRxd7dSgN"
      }
    },
    {
      "cell_type": "code",
      "source": [
        "def dataStats(X, y):\n",
        "    # Number of rows and columns\n",
        "    num_rows, num_cols = dataset.shape\n",
        "    print(\"\\033[1mNumber of rows:\\033[0m\", num_rows)\n",
        "    print(\"\\033[1mNumber of columns:\\033[0m\", num_cols)\n",
        "\n",
        "    # Missing values\n",
        "    missing_values = dataset.isnull().sum()\n",
        "    print(\"\\033[1mMissing values:\\033[0m\")\n",
        "    print(missing_values)\n",
        "\n",
        "    # Number of unique values in each column\n",
        "    unique_values = dataset.nunique()\n",
        "    print(\"\\033[1mNumber of unique values in each column:\\033[0m\")\n",
        "    print(unique_values)\n",
        "\n",
        "    n_obvs = y.shape[0]\n",
        "    label_count = y.value_counts()\n",
        "    bars = label_count.plot(kind='bar', color=['blue', 'purple', 'red'])\n",
        "    plt.title('Label Frequencies in the Dataset')\n",
        "    plt.xlabel('Labels')\n",
        "    plt.ylabel('Frequency')\n",
        "    plt.xticks(rotation=45)\n",
        "\n",
        "    for bar in bars.patches:\n",
        "        plt.annotate(format(bar.get_height(), '.0f'),\n",
        "                    (bar.get_x() + bar.get_width() / 2,\n",
        "                    bar.get_height()), ha='center', va='center',\n",
        "                    size=10, xytext=(0, 8),\n",
        "                    textcoords='offset points')\n",
        "\n",
        "    plt.show()\n",
        "\n",
        "dataStats(X, y)"
      ],
      "metadata": {
        "colab": {
          "base_uri": "https://localhost:8080/",
          "height": 789
        },
        "id": "YLjO5VqOYgEt",
        "outputId": "cd494eeb-54c8-4e1d-e2f8-470c8ea3e0ab"
      },
      "execution_count": null,
      "outputs": [
        {
          "output_type": "stream",
          "name": "stdout",
          "text": [
            "\u001b[1mNumber of rows:\u001b[0m 5971\n",
            "\u001b[1mNumber of columns:\u001b[0m 5\n",
            "\u001b[1mMissing values:\u001b[0m\n",
            "LABEL    0\n",
            "TEXT     0\n",
            "URL      0\n",
            "EMAIL    0\n",
            "PHONE    0\n",
            "dtype: int64\n",
            "\u001b[1mNumber of unique values in each column:\u001b[0m\n",
            "LABEL       5\n",
            "TEXT     5949\n",
            "URL         2\n",
            "EMAIL       2\n",
            "PHONE       2\n",
            "dtype: int64\n"
          ]
        },
        {
          "output_type": "display_data",
          "data": {
            "text/plain": [
              "<Figure size 640x480 with 1 Axes>"
            ],
            "image/png": "[encoded data removed]"
          },
          "metadata": {}
        }
      ]
    },
    {
      "cell_type": "markdown",
      "source": [
        "## How to deal with unbalanced data:\n",
        "\n",
        "- *Oversampling*: Involves adding more examples from the minority class\n",
        "- *Undersampling*: Involves removing examples from the majority class\n",
        "- *Penalized Models*: These impose an additional cost on the model for making classification mistakes on the minority class during training (for example, many scikit-learn models accept a `class_weights` parameters, which may be set to `class_weights='balanced'` in order to account for this)\n",
        "- *Data augmentation*: This technique is especially useful when dealing with datasets like images where new data can be created by cropping, rotating, flipping, etc.\n",
        "\n",
        "It is important to point out that this should be done before training and ***data splitting***:"
      ],
      "metadata": {
        "id": "GKr6mDERS7pP"
      }
    },
    {
      "cell_type": "code",
      "source": [
        "from sklearn.model_selection import train_test_split\n",
        "from sklearn.model_selection import StratifiedShuffleSplit\n",
        "from imblearn.over_sampling import RandomOverSampler\n",
        "\n",
        "# Lectures advised reserving 20-40% of your data set for testing.\n",
        "TEST_SIZE = 0.3\n",
        "\n",
        "# the stratify parameter makes it such that in the split the class labels are\n",
        "# roughly the same proportion as in the original data\n",
        "X_train, X_test, y_train, y_test = train_test_split(X, y, test_size=TEST_SIZE, stratify=y, random_state=RANDOM_STATE)\n",
        "print(\"X_train.shape\", X_train.shape, \"y_train.shape\", y_train.shape)\n",
        "print(\"X_test.shape\", X_test.shape, \"y_test.shape\", y_test.shape)\n",
        "\n",
        "# Using RandomOverSampler to oversample the minority classes\n",
        "# it is better to do this after the split, as otherwise there can be\n",
        "# some\n",
        "sm = RandomOverSampler(random_state=RANDOM_STATE)\n",
        "X_train, y_train = sm.fit_resample(X_train, y_train)\n",
        "\n",
        "dataStats(X_train, y_train)\n",
        "\n",
        "print(\"X_train.shape\", X_train.shape, \"y_train.shape\", y_train.shape)"
      ],
      "metadata": {
        "id": "-P_7Op9JcyPB",
        "colab": {
          "base_uri": "https://localhost:8080/",
          "height": 841
        },
        "outputId": "96637467-5b3e-4962-f05e-19c527e3c74b"
      },
      "execution_count": null,
      "outputs": [
        {
          "output_type": "stream",
          "name": "stdout",
          "text": [
            "X_train.shape (4179, 4) y_train.shape (4179,)\n",
            "X_test.shape (1792, 4) y_test.shape (1792,)\n",
            "\u001b[1mNumber of rows:\u001b[0m 5971\n",
            "\u001b[1mNumber of columns:\u001b[0m 5\n",
            "\u001b[1mMissing values:\u001b[0m\n",
            "LABEL    0\n",
            "TEXT     0\n",
            "URL      0\n",
            "EMAIL    0\n",
            "PHONE    0\n",
            "dtype: int64\n",
            "\u001b[1mNumber of unique values in each column:\u001b[0m\n",
            "LABEL       5\n",
            "TEXT     5949\n",
            "URL         2\n",
            "EMAIL       2\n",
            "PHONE       2\n",
            "dtype: int64\n"
          ]
        },
        {
          "output_type": "display_data",
          "data": {
            "text/plain": [
              "<Figure size 640x480 with 1 Axes>"
            ],
            "image/png": "[encoded data removed]"
          },
          "metadata": {}
        },
        {
          "output_type": "stream",
          "name": "stdout",
          "text": [
            "X_train.shape (10170, 4) y_train.shape (10170,)\n"
          ]
        }
      ]
    },
    {
      "cell_type": "markdown",
      "source": [
        "## Text datapreprocessing\n",
        "\n",
        "1. Text Cleaning: This is the initial step in text preprocessing, which involves removing unnecessary and redundant data\n",
        "\n",
        "2. Tokenization: This step involves splitting the text into individual words or tokens.\n",
        "\n",
        "3. Stopword Removal: Stopwords are the most common words in a language like 'the', 'is', 'in', 'for', etc.\n",
        "\n",
        "4. Stemming/Lemmatization: These techniques are used to reduce a word to its root form.\n",
        "\n",
        "5. Vectorization: After preprocessing, the text data needs to be converted into numerical form for the machine learning model."
      ],
      "metadata": {
        "id": "Zf_aROKfYOLc"
      }
    },
    {
      "cell_type": "code",
      "source": [
        "from sklearn.base import BaseEstimator, TransformerMixin\n",
        "from nltk.tokenize import word_tokenize\n",
        "from nltk.corpus import stopwords\n",
        "from nltk.stem import WordNetLemmatizer\n",
        "import re\n",
        "\n",
        "class TextPreprocessing(BaseEstimator, TransformerMixin):\n",
        "    def __init__(self):\n",
        "        self.lemmatizer = WordNetLemmatizer()\n",
        "        self.stop_words = set(stopwords.words('english'))\n",
        "\n",
        "    def fit(self, X, y=None):\n",
        "        return self\n",
        "\n",
        "    def transform(self, X, y=None):\n",
        "        X_transformed = []\n",
        "        for text in X:\n",
        "            text = re.sub(r'\\d+', '', text)\n",
        "            text = re.sub(r'\\W+', ' ', text)\n",
        "            text = text.lower()\n",
        "\n",
        "            # there is no need for tokenization, the vectorizer handles this for us\n",
        "            # words = word_tokenize(text)\n",
        "            # words = [self.lemmatizer.lemmatize(word) for word in words if word not in self.stop_words]\n",
        "            X_transformed.append(text)\n",
        "\n",
        "        return X_transformed"
      ],
      "metadata": {
        "id": "rjuHKUD8Y2ce"
      },
      "execution_count": null,
      "outputs": []
    },
    {
      "cell_type": "code",
      "source": [
        "# do this if nltk complains about downloading something\n",
        "import nltk\n",
        "nltk.download('stopwords')\n",
        "nltk.download('punkt')\n",
        "nltk.download('wordnet')"
      ],
      "metadata": {
        "colab": {
          "base_uri": "https://localhost:8080/"
        },
        "id": "P8FKGkTSf9Q2",
        "outputId": "caa12c81-8723-4d28-a6b4-4c752c4b402b"
      },
      "execution_count": null,
      "outputs": [
        {
          "output_type": "stream",
          "name": "stderr",
          "text": [
            "[nltk_data] Downloading package stopwords to /root/nltk_data...\n",
            "[nltk_data]   Unzipping corpora/stopwords.zip.\n",
            "[nltk_data] Downloading package punkt to /root/nltk_data...\n",
            "[nltk_data]   Unzipping tokenizers/punkt.zip.\n",
            "[nltk_data] Downloading package wordnet to /root/nltk_data...\n"
          ]
        },
        {
          "output_type": "execute_result",
          "data": {
            "text/plain": [
              "True"
            ]
          },
          "metadata": {},
          "execution_count": 8
        }
      ]
    },
    {
      "cell_type": "markdown",
      "source": [
        "## Assignment Models\n",
        "\n",
        "For the classification model based on the assignment code, we've decided to utilize the logistic regression, and implement it into a sklearn compatible class.\n",
        "\n",
        "To do multiclass classification we can implement a one-vs-all strategy in the pipeline using a `OneVsRestClassifier`."
      ],
      "metadata": {
        "id": "MiRNc1ZynGnj"
      }
    },
    {
      "cell_type": "code",
      "source": [
        "# @title Logistic Classifier (assignment 2)\n",
        "from sklearn.preprocessing import LabelEncoder\n",
        "from sklearn.base import BaseEstimator, TransformerMixin\n",
        "\n",
        "class LogisticClassifier(BaseEstimator, TransformerMixin):\n",
        "    def __init__(self, lambda_=1, iter_=1000, learning_rate_=0.01):\n",
        "        self.lambda_ = lambda_\n",
        "        self.iter_ = iter_\n",
        "        self.learning_rate_ = learning_rate_\n",
        "        self.w = None\n",
        "        self.b = None\n",
        "\n",
        "    def predict(self, X):\n",
        "        z = np.dot(X, self.w) + self.b\n",
        "        f = self.sigmoid(z)\n",
        "        return (f > 0.5).astype(int)\n",
        "\n",
        "    def fit(self, X, y):\n",
        "        m, n = X.shape\n",
        "\n",
        "        print(X.shape)\n",
        "\n",
        "        self.w = np.zeros((n, 1))\n",
        "        self.b = 0\n",
        "\n",
        "        # Gradient descent\n",
        "        for _ in range(self.iter_):  # number of iterations\n",
        "            dj_db, dj_dw = self.compute_gradient_reg(X, y, self.w, self.b, self.lambda_)\n",
        "            self.w = self.w - self.learning_rate_ * dj_dw\n",
        "            self.b = self.b - self.learning_rate_ * dj_db\n",
        "\n",
        "        return self\n",
        "\n",
        "    def sigmoid(self, z):\n",
        "        \"\"\"\n",
        "        Compute the sigmoid of z\n",
        "\n",
        "        Args:\n",
        "            z (ndarray): A scalar, numpy array of any size.\n",
        "\n",
        "        Returns:\n",
        "            g (ndarray): sigmoid(z), with the same shape as z\n",
        "\n",
        "        \"\"\"\n",
        "\n",
        "        ### START CODE HERE ###\n",
        "        g = 1/(1+np.power(np.e, -z))\n",
        "        ### END SOLUTION ###\n",
        "\n",
        "        return g\n",
        "\n",
        "    def compute_cost(self, X, y, w, b, lambda_= 1):\n",
        "        \"\"\"\n",
        "        Computes the cost over all examples\n",
        "        Args:\n",
        "        X : (ndarray Shape (m,n)) data, m examples by n features\n",
        "        y : (array_like Shape (m,)) target value\n",
        "        w : (array_like Shape (n,)) Values of parameters of the model\n",
        "        b : scalar Values of bias parameter of the model\n",
        "        lambda_: unused placeholder\n",
        "        Returns:\n",
        "        total_cost: (scalar)         cost\n",
        "        \"\"\"\n",
        "\n",
        "        m, n = X.shape\n",
        "\n",
        "        ### START CODE HERE ###\n",
        "\n",
        "        z = np.dot(X, w) + b\n",
        "\n",
        "        f = self.sigmoid(z)\n",
        "\n",
        "        loss = (np.multiply(-y, np.log(f))) - (np.multiply((1 - y), np.log(1 - f)))\n",
        "\n",
        "        total_cost = 1/m * np.sum(loss)\n",
        "\n",
        "        ### END CODE HERE ###\n",
        "\n",
        "        return total_cost\n",
        "\n",
        "    def compute_cost_reg(self, X, y, w, b, lambda_ = 1):\n",
        "        \"\"\"\n",
        "        Computes the cost over all examples\n",
        "        Args:\n",
        "        X : (array_like Shape (m,n)) data, m examples by n features\n",
        "        y : (array_like Shape (m,)) target value\n",
        "        w : (array_like Shape (n,)) Values of parameters of the model\n",
        "        b : (array_like Shape (n,)) Values of bias parameter of the model\n",
        "        lambda_ : (scalar, float)    Controls amount of regularization\n",
        "        Returns:\n",
        "        total_cost: (scalar)         cost\n",
        "        \"\"\"\n",
        "\n",
        "        m, n = X.shape\n",
        "\n",
        "        # Calls the compute_cost function that you implemented above\n",
        "        cost_without_reg = self.compute_cost(X, y, w, b)\n",
        "\n",
        "        # You need to calculate this value\n",
        "        reg_cost = 0.\n",
        "\n",
        "        ### START CODE HERE ###\n",
        "\n",
        "        reg_cost = np.sum(np.power(w,2))\n",
        "\n",
        "        ### END CODE HERE ###\n",
        "\n",
        "        # Add the regularization cost to get the total cost\n",
        "        total_cost = cost_without_reg + (lambda_/(2 * m)) * reg_cost\n",
        "\n",
        "        return total_cost\n",
        "\n",
        "    def compute_gradient(self, X, y, w, b, lambda_=None):\n",
        "        \"\"\"\n",
        "        Computes the gradient for logistic regression\n",
        "\n",
        "        Args:\n",
        "        X : (ndarray Shape (m,n)) variable such as house size\n",
        "        y : (array_like Shape (m,1)) actual value\n",
        "        w : (array_like Shape (n,1)) values of parameters of the model\n",
        "        b : (scalar)                 value of parameter of the model\n",
        "        lambda_: unused placeholder.\n",
        "        Returns\n",
        "        dj_dw: (array_like Shape (n,1)) The gradient of the cost w.r.t. the parameters w.\n",
        "        dj_db: (scalar)                The gradient of the cost w.r.t. the parameter b.\n",
        "        \"\"\"\n",
        "        m, n = X.shape\n",
        "        dj_dw = np.zeros(w.shape)\n",
        "        dj_db = 0.\n",
        "\n",
        "        ### START CODE HERE ###\n",
        "        z = np.dot(X, w) + b\n",
        "        f = self.sigmoid(z)\n",
        "\n",
        "        dj_db = 1/m * np.sum(f - y)\n",
        "        dj_dw = 1/m * np.dot((f - y), X)\n",
        "        #dj_dw = 1/m * np.sum(, axis = 0)\n",
        "\n",
        "        ### END CODE HERE ###\n",
        "\n",
        "\n",
        "        return dj_db, dj_dw\n",
        "\n",
        "    def compute_gradient_reg(self, X, y, w, b, lambda_ = 1):\n",
        "        \"\"\"\n",
        "        Computes the gradient for linear regression\n",
        "\n",
        "        Args:\n",
        "        X : (ndarray Shape (m,n))   variable such as house size\n",
        "        y : (ndarray Shape (m,))    actual value\n",
        "        w : (ndarray Shape (n,))    values of parameters of the model\n",
        "        b : (scalar)                value of parameter of the model\n",
        "        lambda_ : (scalar,float)    regularization constant\n",
        "        Returns\n",
        "        dj_db: (scalar)             The gradient of the cost w.r.t. the parameter b.\n",
        "        dj_dw: (ndarray Shape (n,)) The gradient of the cost w.r.t. the parameters w.\n",
        "\n",
        "        \"\"\"\n",
        "        m, n = X.shape\n",
        "\n",
        "        dj_db, dj_dw = self.compute_gradient(X, y, w, b)\n",
        "\n",
        "        ### START CODE HERE ###\n",
        "\n",
        "        dj_dw = (dj_dw + (lambda_/m * w))\n",
        "\n",
        "        ### END CODE HERE ###\n",
        "\n",
        "        return dj_db, dj_dw\n"
      ],
      "metadata": {
        "id": "1syoyrNsmmTx"
      },
      "execution_count": null,
      "outputs": []
    },
    {
      "cell_type": "markdown",
      "source": [
        "## Building the model\n",
        "\n",
        "SKLearn offers a very easy to use way to chain different machine learning model steps within a pipeline.\n",
        "\n",
        "Where we use the `ColumnTransformer` which allows us to apply preprocessing to just a single column. Which in this case is needed for the email body, as well as the categorical features.\n",
        "\n",
        "## Models\n",
        "\n"
      ],
      "metadata": {
        "id": "--ihie28FZ_7"
      }
    },
    {
      "cell_type": "code",
      "source": [
        "from sklearn.pipeline import Pipeline\n",
        "from sklearn.feature_extraction.text import TfidfVectorizer\n",
        "from sklearn.ensemble import RandomForestClassifier\n",
        "from sklearn.svm import SVC\n",
        "from sklearn.naive_bayes import GaussianNB, MultinomialNB\n",
        "from sklearn.compose import ColumnTransformer\n",
        "from sklearn.preprocessing import OrdinalEncoder, FunctionTransformer\n",
        "from sklearn.multiclass import OneVsRestClassifier\n",
        "from sklearn.linear_model import LogisticRegression\n",
        "\n",
        "pipeline = Pipeline([\n",
        "    ('dataProcessing', ColumnTransformer([\n",
        "        ('text_preprocess', Pipeline([\n",
        "            ('textPreprocessing', TextPreprocessing()),\n",
        "            ('vectorizer', TfidfVectorizer())\n",
        "        ]), \"TEXT\"),\n",
        "        ('encoding', OrdinalEncoder(), X.columns != \"TEXT\")\n",
        "    ])),\n",
        "    #('todense', FunctionTransformer(lambda x: x.toarray(), accept_sparse = True)), # For naive bayes classifiers\n",
        "    #('classifier', OneVsRestClassifier(GaussianNB()))\n",
        "    #('classifier', OneVsRestClassifier(MultinomialNB()))\n",
        "    #('classifier', RandomForestClassifier(n_estimators = 1000))\n",
        "    ('classifier', SVC(class_weight='balanced', probability=True, kernel='rbf'))\n",
        "    #('classifier', OneVsRestClassifier(LogisticRegression(class_weight='balanced', C=1/100)))\n",
        "    #('classifier', OneVsRestClassifier(LogisticClassifier(iter_=1000)))\n",
        "])"
      ],
      "metadata": {
        "id": "GpgFTbejcq2c"
      },
      "execution_count": null,
      "outputs": []
    },
    {
      "cell_type": "code",
      "source": [
        "# Now fit the model !\n",
        "pipeline.fit(X_train, y_train)"
      ],
      "metadata": {
        "colab": {
          "base_uri": "https://localhost:8080/"
        },
        "id": "Ygb__ttWcs3X",
        "outputId": "48fcda8b-bd97-4a8c-dca1-0bb13e1d677b"
      },
      "execution_count": null,
      "outputs": [
        {
          "output_type": "stream",
          "name": "stdout",
          "text": [
            "(10170, 6957)\n"
          ]
        }
      ]
    },
    {
      "cell_type": "markdown",
      "source": [
        "## Model validation and performance metrics\n",
        "\n",
        "Now we run the test/validation set through the trained model and measure the accuracy of the model"
      ],
      "metadata": {
        "id": "EMSWhJJxI3oV"
      }
    },
    {
      "cell_type": "code",
      "source": [
        "from sklearn.metrics import accuracy_score, average_precision_score, roc_auc_score\n",
        "from sklearn.preprocessing import LabelBinarizer\n",
        "\n",
        "predictions = pipeline.predict(X_test)\n",
        "prediction_prob = pipeline.predict_proba(X_test)\n",
        "#prediction_prob += 1e-9; prediction_prob = np.nan_to_num(prediction_prob) # for naive bayes\n",
        "\n",
        "print(\"Accuracy: \" + str(accuracy_score(y_test, predictions)))\n",
        "\n",
        "lb = LabelBinarizer()\n",
        "\n",
        "y_test_bin = lb.fit_transform(y_test)\n",
        "print(prediction_prob)\n",
        "print(roc_auc_score(y_test_bin, prediction_prob))\n"
      ],
      "metadata": {
        "colab": {
          "base_uri": "https://localhost:8080/"
        },
        "id": "0jaSmegSeKkj",
        "outputId": "493b6166-6fd9-4d62-ac8a-7066f8cc7e17"
      },
      "execution_count": null,
      "outputs": [
        {
          "output_type": "stream",
          "name": "stdout",
          "text": [
            "Accuracy: 0.9481026785714286\n",
            "[[6.35415880e-01 2.71634809e-02 3.37420639e-01]\n",
            " [9.19253405e-01 6.47592005e-02 1.59873947e-02]\n",
            " [9.28992937e-01 1.78028389e-02 5.32042236e-02]\n",
            " ...\n",
            " [9.56025005e-01 5.67924970e-03 3.82957455e-02]\n",
            " [1.24568280e-05 9.80088921e-01 1.98986224e-02]\n",
            " [9.62954378e-01 2.68110178e-02 1.02346040e-02]]\n",
            "0.9621187248473951\n"
          ]
        }
      ]
    },
    {
      "cell_type": "markdown",
      "source": [
        "## Neural Network for Multiclass Classification"
      ],
      "metadata": {
        "id": "YSh-vlHXyqh0"
      }
    },
    {
      "cell_type": "code",
      "source": [
        "from sklearn.preprocessing import LabelEncoder\n",
        "from tensorflow.keras.preprocessing.text import Tokenizer\n",
        "from tensorflow.keras.preprocessing.sequence import pad_sequences\n",
        "from tensorflow.keras.utils import to_categorical\n",
        "from tensorflow.keras.models import Sequential\n",
        "from tensorflow.keras.layers import Embedding, Flatten\n",
        "from tensorflow.keras.layers import Dense\n"
      ],
      "metadata": {
        "id": "mINpIBLbEMeD"
      },
      "execution_count": null,
      "outputs": []
    },
    {
      "cell_type": "code",
      "source": [
        "texts = dataset['TEXT'].tolist()\n",
        "labels = dataset['LABEL'].tolist()\n",
        "url_features = dataset['URL'].tolist()\n",
        "email_features = dataset['EMAIL'].tolist()\n",
        "phone_features = dataset['PHONE'].tolist()\n",
        "\n",
        "combined_features = [f\"{text} {url} {email} {phone}\" for text, url, email, phone in zip(texts, url_features, email_features, phone_features)]\n",
        "\n",
        "label_encoder = LabelEncoder()\n",
        "labels_encoded = label_encoder.fit_transform(labels)\n",
        "labels_onehot = to_categorical(labels_encoded)\n",
        "\n",
        "# # # Split the data into training and testing sets\n",
        "X_train, X_test, y_train, y_test = train_test_split(combined_features, labels_onehot, test_size=0.2, random_state=42)\n",
        "\n",
        "# Text preprocessing\n",
        "text_preprocessor = TextPreprocessing()\n",
        "X_train_transformed = text_preprocessor.fit_transform(X_train)\n",
        "X_test_transformed = text_preprocessor.transform(X_test)\n",
        "\n",
        "# Tokenize and pad sequences\n",
        "tokenizer = Tokenizer()\n",
        "tokenizer.fit_on_texts(X_train_transformed)\n",
        "X_train_sequences = tokenizer.texts_to_sequences(X_train_transformed)\n",
        "X_test_sequences = tokenizer.texts_to_sequences(X_test_transformed)\n",
        "\n",
        "max_length = 100\n",
        "X_train_padded = pad_sequences(X_train_sequences, maxlen=max_length)\n",
        "X_test_padded = pad_sequences(X_test_sequences, maxlen=max_length)\n",
        "\n",
        "print(X_train_padded.shape)\n",
        "print(y_train.shape)\n",
        "\n",
        "# Build and train the neural network\n",
        "vocab_size = len(tokenizer.word_index) + 1\n",
        "embedding_dim = 16\n",
        "\n",
        "num_classes = len(label_encoder.classes_)\n",
        "print(num_classes)\n",
        "\n",
        "model = Sequential([\n",
        "    Embedding(input_dim=vocab_size, output_dim=embedding_dim, input_length=max_length),\n",
        "    Flatten(),\n",
        "    Dense(units=15, activation='relu'),\n",
        "    Dense(units=num_classes, activation='softmax')\n",
        "])\n",
        "\n",
        "model.compile(loss='categorical_crossentropy', optimizer='adam', metrics=['accuracy'])\n",
        "\n",
        "history = model.fit(X_train_padded, y_train, epochs=100, validation_data=(X_test_padded, y_test))\n"
      ],
      "metadata": {
        "colab": {
          "base_uri": "https://localhost:8080/",
          "height": 251
        },
        "id": "PQUuuBF6AVRS",
        "outputId": "5384cd0a-5d3b-49c3-ac47-bf0253386e89"
      },
      "execution_count": null,
      "outputs": [
        {
          "output_type": "error",
          "ename": "AttributeError",
          "evalue": "ignored",
          "traceback": [
            "\u001b[0;31m---------------------------------------------------------------------------\u001b[0m",
            "\u001b[0;31mAttributeError\u001b[0m                            Traceback (most recent call last)",
            "\u001b[0;32m<ipython-input-11-205ad13095c9>\u001b[0m in \u001b[0;36m<cell line: 31>\u001b[0;34m()\u001b[0m\n\u001b[1;32m     29\u001b[0m \u001b[0mX_test_padded\u001b[0m \u001b[0;34m=\u001b[0m \u001b[0mpad_sequences\u001b[0m\u001b[0;34m(\u001b[0m\u001b[0mX_test_sequences\u001b[0m\u001b[0;34m,\u001b[0m \u001b[0mmaxlen\u001b[0m\u001b[0;34m=\u001b[0m\u001b[0mmax_length\u001b[0m\u001b[0;34m)\u001b[0m\u001b[0;34m\u001b[0m\u001b[0;34m\u001b[0m\u001b[0m\n\u001b[1;32m     30\u001b[0m \u001b[0;34m\u001b[0m\u001b[0m\n\u001b[0;32m---> 31\u001b[0;31m \u001b[0mprint\u001b[0m\u001b[0;34m(\u001b[0m\u001b[0mX_train_sequences\u001b[0m\u001b[0;34m.\u001b[0m\u001b[0mshape\u001b[0m\u001b[0;34m)\u001b[0m\u001b[0;34m\u001b[0m\u001b[0;34m\u001b[0m\u001b[0m\n\u001b[0m\u001b[1;32m     32\u001b[0m \u001b[0mprint\u001b[0m\u001b[0;34m(\u001b[0m\u001b[0my_train\u001b[0m\u001b[0;34m.\u001b[0m\u001b[0mshape\u001b[0m\u001b[0;34m)\u001b[0m\u001b[0;34m\u001b[0m\u001b[0;34m\u001b[0m\u001b[0m\n\u001b[1;32m     33\u001b[0m \u001b[0;34m\u001b[0m\u001b[0m\n",
            "\u001b[0;31mAttributeError\u001b[0m: 'list' object has no attribute 'shape'"
          ]
        }
      ]
    },
    {
      "cell_type": "code",
      "source": [
        "model.summary()"
      ],
      "metadata": {
        "id": "6OSVgQxBNH0R",
        "colab": {
          "base_uri": "https://localhost:8080/"
        },
        "outputId": "87d8d4ce-24be-47e2-c5b0-2da117b8a9d2"
      },
      "execution_count": null,
      "outputs": [
        {
          "output_type": "stream",
          "name": "stdout",
          "text": [
            "Model: \"sequential\"\n",
            "_________________________________________________________________\n",
            " Layer (type)                Output Shape              Param #   \n",
            "=================================================================\n",
            " embedding (Embedding)       (None, 100, 16)           119232    \n",
            "                                                                 \n",
            " flatten (Flatten)           (None, 1600)              0         \n",
            "                                                                 \n",
            " dense (Dense)               (None, 15)                24015     \n",
            "                                                                 \n",
            " dense_1 (Dense)             (None, 5)                 80        \n",
            "                                                                 \n",
            "=================================================================\n",
            "Total params: 143327 (559.87 KB)\n",
            "Trainable params: 143327 (559.87 KB)\n",
            "Non-trainable params: 0 (0.00 Byte)\n",
            "_________________________________________________________________\n"
          ]
        }
      ]
    },
    {
      "cell_type": "code",
      "source": [
        "# Assuming you have already trained the model and have X_test_padded and y_test defined\n",
        "\n",
        "# Evaluate the model on the test set\n",
        "loss, accuracy = model.evaluate(X_test_padded, y_test)\n",
        "prediction_prob = model.predict(X_test_padded)\n",
        "\n",
        "print(f'Test Loss: {loss:.4f}')\n",
        "print(f'Test Accuracy: {accuracy*100:.2f}%')\n",
        "\n",
        "print(accuracy)\n",
        "print(roc_auc_score(y_test, prediction_prob))\n",
        "\n"
      ],
      "metadata": {
        "id": "DctvL896CD_H",
        "colab": {
          "base_uri": "https://localhost:8080/"
        },
        "outputId": "4b9d7bac-26e2-4119-824b-ccb0986cba4f"
      },
      "execution_count": null,
      "outputs": [
        {
          "output_type": "stream",
          "name": "stdout",
          "text": [
            "38/38 [==============================] - 0s 3ms/step - loss: 0.5224 - accuracy: 0.9372\n",
            "38/38 [==============================] - 0s 2ms/step\n",
            "Test Loss: 0.5224\n",
            "Test Accuracy: 93.72%\n",
            "0.9372385144233704\n",
            "0.9387083119125934\n"
          ]
        }
      ]
    }
  ]
}